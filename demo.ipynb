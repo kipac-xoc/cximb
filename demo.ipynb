{
 "cells": [
  {
   "cell_type": "code",
   "execution_count": null,
   "id": "448e7e82",
   "metadata": {},
   "outputs": [],
   "source": [
    "from cximb import PCA, ZPmodel, PCGen\n",
    "import numpy as np\n",
    "import matplotlib.pyplot as plt\n",
    "%matplotlib inline"
   ]
  },
  {
   "cell_type": "markdown",
   "id": "fc910f6b",
   "metadata": {},
   "source": [
    "Setup. Here 256 is the size of the image array we will make (larger would look nicer, but take longer to execute). Note that the `PCA` and `PCGen` constructors take paths to a few data files included in this package as arguments (see their docstrings); the default is to assume the data are in the working directory."
   ]
  },
  {
   "cell_type": "code",
   "execution_count": null,
   "id": "c2d57f86",
   "metadata": {},
   "outputs": [],
   "source": [
    "pca = PCA()\n",
    "zm = ZPmodel(256)\n",
    "pcgen = PCGen()"
   ]
  },
  {
   "cell_type": "markdown",
   "id": "e960bfb5",
   "metadata": {},
   "source": [
    "Show the image corresponding to the origin of PC space, with and without the radial distortion. Keep in mind that the model is in terms of LOG surface brightness."
   ]
  },
  {
   "cell_type": "code",
   "execution_count": null,
   "id": "ab77478a",
   "metadata": {},
   "outputs": [],
   "source": [
    "p = np.zeros(len(zm.coeffs))\n",
    "zm.coeffs = pca.pc_to_orig(p)\n",
    "\n",
    "fig,ax = plt.subplots(1, 2)\n",
    "im = zm.make_image(undistort=False)\n",
    "ax[0].imshow(im); ax[0].axis('off');\n",
    "im = zm.make_image() # undistort=True by default\n",
    "ax[1].imshow(im); ax[1].axis('off');"
   ]
  },
  {
   "cell_type": "code",
   "execution_count": null,
   "id": "2bdc0f92",
   "metadata": {},
   "outputs": [],
   "source": [
    "origin = im # save the undistorted origin image for later"
   ]
  },
  {
   "cell_type": "markdown",
   "id": "88488d99",
   "metadata": {},
   "source": [
    "Show the difference between the first 10 PCs and the origin."
   ]
  },
  {
   "cell_type": "code",
   "execution_count": null,
   "id": "73ccfe14",
   "metadata": {},
   "outputs": [],
   "source": [
    "fig,ax = plt.subplots(2, 5, figsize=(20,8))\n",
    "for i in range(10):\n",
    "    j = np.unravel_index(i, ax.shape)\n",
    "    p = np.zeros(len(zm.coeffs))\n",
    "    p[i] = 1.0\n",
    "    zm.coeffs = pca.pc_to_orig(p)\n",
    "    im = zm.make_image()\n",
    "    ax[j].imshow(im - origin); ax[j].axis('off');"
   ]
  },
  {
   "cell_type": "markdown",
   "id": "7742e2dc",
   "metadata": {},
   "source": [
    "Generate 10 random morphologies. The code independently randomly draws values of all PC coefficients from a Gaussian whose parameters correspond to the distribution of simulated images used to define the PCA to begin with. The means are all zero by construction. The distributions of simulated PCs are not actually Gaussian, so there are options to draw using a width equal to the sample standard deviations (an overestimate) or the robustified scatter based on the median absolute deviation (probably better). In general, we recommend setting the first PC coefficient to zero, since the main feature it encodes is known to be an unphysical artifact in the simulation training set.\n",
    "\n",
    "First, using the standard deviation:"
   ]
  },
  {
   "cell_type": "code",
   "execution_count": null,
   "id": "95403344",
   "metadata": {},
   "outputs": [],
   "source": [
    "fig,ax = plt.subplots(2, 5, figsize=(20,8))\n",
    "for i in range(10):\n",
    "    j = np.unravel_index(i, ax.shape)\n",
    "    p = pcgen.get_std()\n",
    "    p[0] = 0.0\n",
    "    zm.coeffs = pca.pc_to_orig(p)\n",
    "    zm.rotate( np.random.uniform(0.0, 360.0) ) # give it a random rotation\n",
    "    im = zm.make_image()\n",
    "    ax[j].imshow(im); ax[j].axis('off');"
   ]
  },
  {
   "cell_type": "markdown",
   "id": "5bdb8616",
   "metadata": {},
   "source": [
    "Next the robust version (with 10 samples, it's usually visually clear that there are fewer extreme shapes):"
   ]
  },
  {
   "cell_type": "code",
   "execution_count": null,
   "id": "84b2f9be",
   "metadata": {},
   "outputs": [],
   "source": [
    "fig,ax = plt.subplots(2, 5, figsize=(20,8))\n",
    "for i in range(10):\n",
    "    j = np.unravel_index(i, ax.shape)\n",
    "    p = pcgen.get_mad()\n",
    "    p[0] = 0.0\n",
    "    zm.coeffs = pca.pc_to_orig(p)\n",
    "    zm.rotate( np.random.uniform(0.0, 360.0) )\n",
    "    im = zm.make_image()\n",
    "    ax[j].imshow(im); ax[j].axis('off');"
   ]
  }
 ],
 "metadata": {
  "kernelspec": {
   "display_name": "Python 3 (ipykernel)",
   "language": "python",
   "name": "python3"
  },
  "language_info": {
   "codemirror_mode": {
    "name": "ipython",
    "version": 3
   },
   "file_extension": ".py",
   "mimetype": "text/x-python",
   "name": "python",
   "nbconvert_exporter": "python",
   "pygments_lexer": "ipython3",
   "version": "3.10.8"
  }
 },
 "nbformat": 4,
 "nbformat_minor": 5
}
